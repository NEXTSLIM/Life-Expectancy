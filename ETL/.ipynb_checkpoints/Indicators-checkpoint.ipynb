{
 "cells": [
  {
   "cell_type": "markdown",
   "id": "507d1d26",
   "metadata": {},
   "source": [
    "# Life Expectancy Analisys\n",
    "### We want year are transposed to rows for the Indicators table"
   ]
  },
  {
   "cell_type": "code",
   "execution_count": 2,
   "id": "b563b4ad",
   "metadata": {},
   "outputs": [
    {
     "name": "stdout",
     "output_type": "stream",
     "text": [
      "(383838, 64)\n",
      "<class 'pandas.core.frame.DataFrame'>\n",
      "['CountryName' 'CountryCode' 'IndicatorName' 'IndicatorCode' '1960' '1961'\n",
      " '1962' '1963' '1964' '1965' '1966' '1967' '1968' '1969' '1970' '1971'\n",
      " '1972' '1973' '1974' '1975' '1976' '1977' '1978' '1979' '1980' '1981'\n",
      " '1982' '1983' '1984' '1985' '1986' '1987' '1988' '1989' '1990' '1991'\n",
      " '1992' '1993' '1994' '1995' '1996' '1997' '1998' '1999' '2000' '2001'\n",
      " '2002' '2003' '2004' '2005' '2006' '2007' '2008' '2009' '2010' '2011'\n",
      " '2012' '2013' '2014' '2015' '2016' '2017' '2018' '2019']\n"
     ]
    },
    {
     "data": {
      "text/html": [
       "<div>\n",
       "<style scoped>\n",
       "    .dataframe tbody tr th:only-of-type {\n",
       "        vertical-align: middle;\n",
       "    }\n",
       "\n",
       "    .dataframe tbody tr th {\n",
       "        vertical-align: top;\n",
       "    }\n",
       "\n",
       "    .dataframe thead th {\n",
       "        text-align: right;\n",
       "    }\n",
       "</style>\n",
       "<table border=\"1\" class=\"dataframe\">\n",
       "  <thead>\n",
       "    <tr style=\"text-align: right;\">\n",
       "      <th></th>\n",
       "      <th>CountryName</th>\n",
       "      <th>CountryCode</th>\n",
       "      <th>IndicatorName</th>\n",
       "      <th>IndicatorCode</th>\n",
       "      <th>Year</th>\n",
       "      <th>Value</th>\n",
       "    </tr>\n",
       "  </thead>\n",
       "  <tbody>\n",
       "    <tr>\n",
       "      <th>0</th>\n",
       "      <td>Africa Eastern and Southern</td>\n",
       "      <td>AFE</td>\n",
       "      <td>Access to clean fuels and technologies for coo...</td>\n",
       "      <td>EG.CFT.ACCS.ZS</td>\n",
       "      <td>1960</td>\n",
       "      <td>NaN</td>\n",
       "    </tr>\n",
       "    <tr>\n",
       "      <th>1</th>\n",
       "      <td>Africa Eastern and Southern</td>\n",
       "      <td>AFE</td>\n",
       "      <td>Access to electricity (% of population)</td>\n",
       "      <td>EG.ELC.ACCS.ZS</td>\n",
       "      <td>1960</td>\n",
       "      <td>NaN</td>\n",
       "    </tr>\n",
       "    <tr>\n",
       "      <th>2</th>\n",
       "      <td>Africa Eastern and Southern</td>\n",
       "      <td>AFE</td>\n",
       "      <td>Access to electricity, rural (% of rural popul...</td>\n",
       "      <td>EG.ELC.ACCS.RU.ZS</td>\n",
       "      <td>1960</td>\n",
       "      <td>NaN</td>\n",
       "    </tr>\n",
       "    <tr>\n",
       "      <th>3</th>\n",
       "      <td>Africa Eastern and Southern</td>\n",
       "      <td>AFE</td>\n",
       "      <td>Access to electricity, urban (% of urban popul...</td>\n",
       "      <td>EG.ELC.ACCS.UR.ZS</td>\n",
       "      <td>1960</td>\n",
       "      <td>NaN</td>\n",
       "    </tr>\n",
       "    <tr>\n",
       "      <th>4</th>\n",
       "      <td>Africa Eastern and Southern</td>\n",
       "      <td>AFE</td>\n",
       "      <td>Account ownership at a financial institution o...</td>\n",
       "      <td>FX.OWN.TOTL.ZS</td>\n",
       "      <td>1960</td>\n",
       "      <td>NaN</td>\n",
       "    </tr>\n",
       "  </tbody>\n",
       "</table>\n",
       "</div>"
      ],
      "text/plain": [
       "                   CountryName CountryCode  \\\n",
       "0  Africa Eastern and Southern         AFE   \n",
       "1  Africa Eastern and Southern         AFE   \n",
       "2  Africa Eastern and Southern         AFE   \n",
       "3  Africa Eastern and Southern         AFE   \n",
       "4  Africa Eastern and Southern         AFE   \n",
       "\n",
       "                                       IndicatorName      IndicatorCode  Year  \\\n",
       "0  Access to clean fuels and technologies for coo...     EG.CFT.ACCS.ZS  1960   \n",
       "1            Access to electricity (% of population)     EG.ELC.ACCS.ZS  1960   \n",
       "2  Access to electricity, rural (% of rural popul...  EG.ELC.ACCS.RU.ZS  1960   \n",
       "3  Access to electricity, urban (% of urban popul...  EG.ELC.ACCS.UR.ZS  1960   \n",
       "4  Account ownership at a financial institution o...     FX.OWN.TOTL.ZS  1960   \n",
       "\n",
       "   Value  \n",
       "0    NaN  \n",
       "1    NaN  \n",
       "2    NaN  \n",
       "3    NaN  \n",
       "4    NaN  "
      ]
     },
     "execution_count": 2,
     "metadata": {},
     "output_type": "execute_result"
    }
   ],
   "source": [
    "import pandas as pd\n",
    "import numpy as np\n",
    "import matplotlib.pyplot as plt\n",
    "import random\n",
    "%matplotlib inline\n",
    "\n",
    "wdi = pd.read_csv(\"data/indicators1.csv\")\n",
    "print(wdi.shape)\n",
    "print(type(wdi))\n",
    "names = wdi.columns.values\n",
    "print(names)\n",
    "\n",
    "wdi_new = pd.melt(wdi, id_vars=['CountryName', 'CountryCode', 'IndicatorName', 'IndicatorCode'], var_name=\"Year\", value_name=\"Value\") #Transpose the year and thier values\n",
    "wdi_new.shape\n",
    "wdi_new.head() # new dataframe created"
   ]
  },
  {
   "cell_type": "code",
   "execution_count": null,
   "id": "5c1f73b5",
   "metadata": {},
   "outputs": [],
   "source": [
    "wdi_new.to_csv('indicators.csv')"
   ]
  },
  {
   "cell_type": "code",
   "execution_count": null,
   "id": "9e591a4a",
   "metadata": {},
   "outputs": [],
   "source": []
  }
 ],
 "metadata": {
  "kernelspec": {
   "display_name": "Python 3",
   "language": "python",
   "name": "python3"
  },
  "language_info": {
   "codemirror_mode": {
    "name": "ipython",
    "version": 3
   },
   "file_extension": ".py",
   "mimetype": "text/x-python",
   "name": "python",
   "nbconvert_exporter": "python",
   "pygments_lexer": "ipython3",
   "version": "3.8.5"
  }
 },
 "nbformat": 4,
 "nbformat_minor": 5
}
